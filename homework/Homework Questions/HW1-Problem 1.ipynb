{
 "cells": [
  {
   "cell_type": "code",
   "execution_count": null,
   "metadata": {},
   "outputs": [],
   "source": [
    "# Homework 1\n",
    "### ASTROINFORMATICS FALL 2018\n",
    "https://github.com/astromundus/astroinfo2018\n",
    "\n",
    "\n",
    "## Problem 1\n",
    "\n",
    "Using astroML figure 3.12 as a template, see\n",
    "\n",
    "http://www.astroml.org/book_figures/chapter3/fig_cauchy_median_mean.html\n",
    "\n",
    "add another panel, similar to the top panel, that will plot and compare \n",
    "results for standard deviation and $\\sigma_G$. \n"
   ]
  }
 ],
 "metadata": {
  "language_info": {
   "name": "python"
  }
 },
 "nbformat": 4,
 "nbformat_minor": 2
}
